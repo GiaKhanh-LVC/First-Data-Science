{
 "cells": [
  {
   "cell_type": "code",
   "execution_count": 2,
   "metadata": {},
   "outputs": [],
   "source": [
    "import numpy as np\n",
    "import matplotlib.pyplot as plt\n",
    "import pandas as pd"
   ]
  },
  {
   "cell_type": "code",
   "execution_count": 21,
   "metadata": {},
   "outputs": [
    {
     "name": "stdout",
     "output_type": "stream",
     "text": [
      "['Moto G Play 2023 3-Day Battery Unlocked Made for US 3/32GB 16MP Camera Navy Blue'\n",
      " 'SAMSUNG Galaxy A15 5G (SM-156M/DSN), 128GB 6GB RAM, Dual SIM, Factory Unlocked GSM, International Version (Wall Charger Bundle) (Light Blue)'\n",
      " 'Total by Verizon | Samsung Galaxy A03s | Locked | 32GB | 5000mAh Battery | 48MP Main Camera | 6.5-in. HD+Infinity-V Display | Black'\n",
      " 'Google Pixel 7a - Unlocked Android Cell Phone - Smartphone with Wide Angle Lens and 24-Hour Battery - 128 GB – Charcoal'\n",
      " 'SAMSUNG Galaxy A15 5G A Series Cell Phone, 128GB Unlocked Android Smartphone, AMOLED Display, Expandable Storage, Knox Security, Super Fast Charging, Hi-Res Camera, US Version, 2024, Blue Black'\n",
      " 'Samsung Galaxy A15 (SM-155M/DSN), 128GB 6GB RAM, Dual SIM, Factory Unlocked GSM, International Version (Wall Charger Bundle) (Light Blue)'\n",
      " 'SAMSUNG Galaxy A35 5G A Series Cell Phone, 128GB Unlocked Android Smartphone, AMOLED Display, Advanced Triple Camera System, Expandable Storage, Rugged Design, US Version, 2024, Awesome Navy'\n",
      " 'TracFone | Motorola Moto g Pure | Locked | 32GB | 4000 mAh Battery | 13 MP Dual Camera System | 6.5&quot; Max Vision HD+ Display | Blue'\n",
      " 'SAMSUNG,Galaxy A04e (SM-A042M/DS) Dual SIM 32GB,6.5&#x27;&#x27; GSM Unlocked,International Version-Black'\n",
      " 'Moto G Play | 2024 | Unlocked | Made for US 4/64GB | 50MP Camera | Sapphire Blue'\n",
      " 'Samsung Galaxy A03s Cell Phone, AT&amp;T GSM Unlocked Android Smartphone, 32GB, Long Lasting Battery, Expandable Storage, 3 Camera Lenses, Infinite Display - Black (Renewed)'\n",
      " 'AT&amp;T BL102-2 DECT 6.0 2-Handset Cordless Phone for Home with Answering Machine, Call Blocking, Caller ID Announcer, Audio Assist, Intercom, and Unsurpassed Range, Silver/Black'\n",
      " 'Bold K10 | 2024 | 3-Day Battery | Unlocked | 6.6” HD+ Infinity Display | 128/4GB | Triple 50MP Camera | US Version | US Warranty | Black'\n",
      " 'Google Pixel 8 - Unlocked Android Smartphone with Advanced Pixel Camera, 24-Hour Battery, and Powerful Security - Obsidian - 128 GB'\n",
      " 'Motorola Moto G Power 5G | 2023 | Unlocked | Made for US 6/256GB | 50 MPCamera | Mineral Black'\n",
      " 'VTech CS6719-2 2-Handset Expandable Cordless Phone with Caller ID/Call Waiting, Handset Intercom &amp; Backlit Display/Keypad, Silver'\n",
      " 'Apple AirTag' 'Apple AirTag 4 pack'\n",
      " 'Amazon Basics - Washable School Glue Sticks, Dries Clear, 2-Pack, Purple'\n",
      " 'Amazon Basics Heavy Duty Plastic Folders with 2 Pockets for Letter Size Paper, Red and Blue, 2-Pack'\n",
      " 'Amazon Basics Multipurpose, Comfort Grip, PVD Coated, Stainless Steel Office Scissors, Grey 1 pack'\n",
      " 'The Book of Bill (Gravity Falls)'\n",
      " 'Onyx Storm (Deluxe Limited Edition) (The Empyrean, 3)' 'Peacock TV'\n",
      " 'Thanksgiving - UHD/BD Combo + Digital + Steelbook [Blu-ray]'\n",
      " 'NESCAFÉ Gold Espresso Blonde, Instant Coffee, 3.5 oz'\n",
      " 'Hillbilly Elegy: A Memoir of a Family and Culture in Crisis'\n",
      " 'FOREVER (Amazon Exclusive Blue Vinyl)'\n",
      " 'Christmas (Amazon Exclusive Blue &amp;amp; White Splatter Vinyl + Alternate Cover)'\n",
      " 'URO Vaginal Probiotics for Women pH Balance with Prebiotics &amp; Lactobacillus Probiotic Blend - Women&#x27;s Vaginal Health Supplement - Promote Healthy Vaginal Odor &amp; Vaginal Flora, 60 Count (Pack of 1)'\n",
      " 'Going Balls: 3D Race'\n",
      " 'Atomic Habits: An Easy &amp; Proven Way to Build Good Habits &amp; Break Bad Ones'\n",
      " 'FOREVER'\n",
      " 'The Anxious Generation: How the Great Rewiring of Childhood Is Causing an Epidemic of Mental Illness'\n",
      " 'Saga #68'\n",
      " 'DAYBETTER LED Strip Lights 130ft (2 Rolls of 65.6ft), Color Changing Lights Strip for Bedroom, Desk, Indoor, Room Bedroom, Girl Boy Brithday Gifts RGB Decor with Remote and 24V Power Supply'\n",
      " 'Teacher Simulator: School Days'\n",
      " 'Bounty Select-A-Size Paper Towels, White, 8 Triple Rolls = 24 Regular Rolls'\n",
      " 'Apple AirPods Pro (2nd Generation) Wireless Ear Buds with USB-C Charging, Up to 2X More Active Noise Cancelling Bluetooth Headphones, Transparency Mode, Adaptive Audio, Personalized Spatial Audio'\n",
      " 'Rand McNally Large Scale Road Atlas 2025'\n",
      " 'FOREVER (Amazon Exclusive Turquoise Cover)'\n",
      " 'EA SPORTS College Football 25 - PlayStation 5' 'My Avatar Life City'\n",
      " 'Max' 'Ragdoll Kick: Broken Bones' 'It Ends with Us'\n",
      " 'Star Trek: Prodigy: Season 2 [Blu-Ray]' 'What Now'\n",
      " 'All the Colors of the Dark'\n",
      " 'In A Violent Nature: Collector’s Edition [Blu-Ray]'\n",
      " 'The God of the Woods: A Novel'\n",
      " 'Hanes Men&#x27;s Pocket Undershirt Pack, Cotton Crew Neck T-Shirt, Moisture Wicking Tee, Assorted 6-Pack'\n",
      " 'Paramount Presents: Ghost [4K UHD + Blu-Ray + Digital Copy]'\n",
      " 'Mirage Tour &#x27;82' 'Mission: Impossible - Dead Reckoning' 'Disney+'\n",
      " 'Netflix' 'A Death in Cornwall: A Novel (Gabriel Allon Book 24)' 'TikTok'\n",
      " 'Greatish Hits: I Followed My Dreams and My Dreams Said to Crawl'\n",
      " 'Swan Song' 'Bluey: Let&#x27;s Play!'\n",
      " 'Xbox Wireless Controller – Sky Cipher Special Edition for Xbox Series X|S, Xbox One, and Windows Devices'\n",
      " 'HP DeskJet 2855e Wireless All-in-One Color Inkjet Printer, Scanner, Copier, Best-for-home, 3 months of ink included (588S5A)']\n"
     ]
    }
   ],
   "source": [
    "dt=pd.read_csv('amazon_product.csv')\n",
    "data = dt.drop(['product_url','product_original_price' ,'product_availability' ,'product_photo', 'climate_pledge_friendly', 'sales_volume', 'delivery', 'unit_price', 'unit_count','asin'], axis=1)\n",
    "data['product_star_rating'] = pd.to_numeric(data['product_star_rating'], errors='coerce')#chuyển dữ liệu về hạng số\n",
    "data['product_star_rating']=data['product_star_rating'].fillna(data['product_star_rating'].median())#fill data bằng số trung vị\n",
    "# data.tên_cột.count()#đếm số giá trị ko Nan\n",
    "# data.shape\n",
    "# data.isnull().sum()\n",
    "# data.head()\n",
    "print(data.product_title.unique())"
   ]
  },
  {
   "cell_type": "code",
   "execution_count": 20,
   "metadata": {},
   "outputs": [
    {
     "name": "stdout",
     "output_type": "stream",
     "text": [
      "    Unnamed: 0                                      product_title  \\\n",
      "0            0  Moto G Play 2023 3-Day Battery Unlocked Made f...   \n",
      "1            1  SAMSUNG Galaxy A15 5G (SM-156M/DSN), 128GB 6GB...   \n",
      "2            2  Total by Verizon | Samsung Galaxy A03s | Locke...   \n",
      "3            3  Google Pixel 7a - Unlocked Android Cell Phone ...   \n",
      "4            4  SAMSUNG Galaxy A15 5G A Series Cell Phone, 128...   \n",
      "..         ...                                                ...   \n",
      "59          59  Greatish Hits: I Followed My Dreams and My Dre...   \n",
      "60          60                                          Swan Song   \n",
      "61          61                            Bluey: Let&#x27;s Play!   \n",
      "62          62  Xbox Wireless Controller – Sky Cipher Special ...   \n",
      "63          63  HP DeskJet 2855e Wireless All-in-One Color Ink...   \n",
      "\n",
      "   product_price currency  product_star_rating  product_num_ratings  \\\n",
      "0         $99.99      USD                  4.0                 2929   \n",
      "1        $149.74      USD                  4.2                  135   \n",
      "2         $49.88      USD                  3.9                  205   \n",
      "3        $335.00      USD                  4.3                 2248   \n",
      "4        $199.99      USD                  4.1                  423   \n",
      "..           ...      ...                  ...                  ...   \n",
      "59        $34.98      USD                  4.4                    0   \n",
      "60        $14.99      USD                  4.4                14471   \n",
      "61         $0.00      USD                  3.5                  270   \n",
      "62        $69.99      USD                  2.6                   12   \n",
      "63        $59.99      USD                  4.0                48154   \n",
      "\n",
      "    product_num_offers product_minimum_offer_price  is_best_seller  \\\n",
      "0                   10                      $64.89           False   \n",
      "1                    8                     $145.87           False   \n",
      "2                    1                      $49.88           False   \n",
      "3                   30                     $289.99           False   \n",
      "4                    2                     $150.09           False   \n",
      "..                 ...                         ...             ...   \n",
      "59                   1                      $34.98           False   \n",
      "60                   1                      $14.99            True   \n",
      "61                   1                       $0.00           False   \n",
      "62                   1                      $69.99            True   \n",
      "63                   1                      $59.99            True   \n",
      "\n",
      "    is_amazon_choice  is_prime  has_variations  \n",
      "0              False      True            True  \n",
      "1              False      True           False  \n",
      "2              False      True           False  \n",
      "3              False     False            True  \n",
      "4              False      True            True  \n",
      "..               ...       ...             ...  \n",
      "59             False     False           False  \n",
      "60             False     False           False  \n",
      "61             False     False           False  \n",
      "62             False     False           False  \n",
      "63             False     False           False  \n",
      "\n",
      "[64 rows x 12 columns]\n"
     ]
    }
   ],
   "source": [
    "print(data)"
   ]
  },
  {
   "cell_type": "code",
   "execution_count": null,
   "metadata": {},
   "outputs": [],
   "source": []
  }
 ],
 "metadata": {
  "kernelspec": {
   "display_name": "Python 3",
   "language": "python",
   "name": "python3"
  },
  "language_info": {
   "codemirror_mode": {
    "name": "ipython",
    "version": 3
   },
   "file_extension": ".py",
   "mimetype": "text/x-python",
   "name": "python",
   "nbconvert_exporter": "python",
   "pygments_lexer": "ipython3",
   "version": "3.12.5"
  }
 },
 "nbformat": 4,
 "nbformat_minor": 2
}
