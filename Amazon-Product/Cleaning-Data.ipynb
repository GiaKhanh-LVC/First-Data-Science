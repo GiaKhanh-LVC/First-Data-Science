{
 "cells": [
  {
   "cell_type": "code",
   "execution_count": 3,
   "metadata": {},
   "outputs": [],
   "source": [
    "import numpy as np\n",
    "import matplotlib.pyplot as plt\n",
    "import pandas as pd"
   ]
  },
  {
   "cell_type": "code",
   "execution_count": 14,
   "metadata": {},
   "outputs": [
    {
     "data": {
      "text/plain": [
       "Unnamed: 0                      0\n",
       "product_title                   0\n",
       "product_price                   0\n",
       "product_original_price         37\n",
       "currency                        0\n",
       "product_star_rating            10\n",
       "product_num_ratings             0\n",
       "product_num_offers              0\n",
       "product_minimum_offer_price     0\n",
       "is_best_seller                  0\n",
       "is_amazon_choice                0\n",
       "is_prime                        0\n",
       "has_variations                  0\n",
       "product_availability           63\n",
       "dtype: int64"
      ]
     },
     "execution_count": 14,
     "metadata": {},
     "output_type": "execute_result"
    }
   ],
   "source": [
    "dt=pd.read_csv('amazon_product.csv')\n",
    "dt.columns\n",
    "data = dt.drop(['product_url', 'product_photo', 'climate_pledge_friendly', 'sales_volume', 'delivery', 'unit_price', 'unit_count','asin'], axis=1)\n",
    "data.shape\n",
    "data.isnull().sum()\n"
   ]
  },
  {
   "cell_type": "code",
   "execution_count": null,
   "metadata": {},
   "outputs": [],
   "source": []
  }
 ],
 "metadata": {
  "kernelspec": {
   "display_name": "Python 3",
   "language": "python",
   "name": "python3"
  },
  "language_info": {
   "codemirror_mode": {
    "name": "ipython",
    "version": 3
   },
   "file_extension": ".py",
   "mimetype": "text/x-python",
   "name": "python",
   "nbconvert_exporter": "python",
   "pygments_lexer": "ipython3",
   "version": "3.12.5"
  }
 },
 "nbformat": 4,
 "nbformat_minor": 2
}
