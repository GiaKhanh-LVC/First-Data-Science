{
 "cells": [
  {
   "cell_type": "code",
   "execution_count": 2,
   "metadata": {},
   "outputs": [
    {
     "name": "stdout",
     "output_type": "stream",
     "text": [
      "                                       product_title  product_price currency  \\\n",
      "0  Moto G Play 2023 3-Day Battery Unlocked Made f...          99.99      USD   \n",
      "1  SAMSUNG Galaxy A15 5G (SM-156M/DSN), 128GB 6GB...         149.74      USD   \n",
      "2  Total by Verizon | Samsung Galaxy A03s | Locke...          49.88      USD   \n",
      "3  Google Pixel 7a - Unlocked Android Cell Phone ...         335.00      USD   \n",
      "4  SAMSUNG Galaxy A15 5G A Series Cell Phone, 128...         199.99      USD   \n",
      "\n",
      "   product_star_rating  product_num_ratings  product_num_offers  \\\n",
      "0                  4.0                 2929                  10   \n",
      "1                  4.2                  135                   8   \n",
      "2                  3.9                  205                   1   \n",
      "3                  4.3                 2248                  30   \n",
      "4                  4.1                  423                   2   \n",
      "\n",
      "   product_minimum_offer_price  is_best_seller  is_amazon_choice  is_prime  \\\n",
      "0                        64.89           False             False      True   \n",
      "1                       145.87           False             False      True   \n",
      "2                        49.88           False             False      True   \n",
      "3                       289.99           False             False     False   \n",
      "4                       150.09           False             False      True   \n",
      "\n",
      "   has_variations  \n",
      "0            True  \n",
      "1           False  \n",
      "2           False  \n",
      "3            True  \n",
      "4            True  \n"
     ]
    }
   ],
   "source": [
    "import pandas as pd\n",
    "import matplotlib.pyplot as plt\n",
    "import numpy as np\n",
    "dt=pd.read_csv('amazon_product.csv')\n",
    "data = dt.drop(['Unnamed: 0','product_url','product_original_price' ,'product_availability' ,'product_photo', 'climate_pledge_friendly', 'sales_volume', 'delivery', 'unit_price', 'unit_count','asin'], axis=1)\n",
    "data['product_star_rating'] = pd.to_numeric(data['product_star_rating'], errors='coerce')\n",
    "data['product_star_rating']=data['product_star_rating'].fillna(data['product_star_rating'].median())\n",
    "\n",
    "def convert_dollar_number(dollar):\n",
    "    return float(dollar.replace('$',''))\n",
    "\n",
    "# data['product_price'] = data['product_price'].apply(convert_dollar_number)\n",
    "data['product_minimum_offer_price'] = data['product_minimum_offer_price'].apply(convert_dollar_number)\n",
    "data['product_price'] = data['product_price'].apply(convert_dollar_number)\n",
    "print(data.head())"
   ]
  }
 ],
 "metadata": {
  "kernelspec": {
   "display_name": "Python 3",
   "language": "python",
   "name": "python3"
  },
  "language_info": {
   "codemirror_mode": {
    "name": "ipython",
    "version": 3
   },
   "file_extension": ".py",
   "mimetype": "text/x-python",
   "name": "python",
   "nbconvert_exporter": "python",
   "pygments_lexer": "ipython3",
   "version": "3.12.5"
  }
 },
 "nbformat": 4,
 "nbformat_minor": 2
}
